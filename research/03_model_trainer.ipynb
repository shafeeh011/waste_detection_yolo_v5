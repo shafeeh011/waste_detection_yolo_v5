{
 "cells": [
  {
   "cell_type": "code",
   "execution_count": 21,
   "metadata": {},
   "outputs": [],
   "source": [
    "import os"
   ]
  },
  {
   "cell_type": "code",
   "execution_count": 22,
   "metadata": {},
   "outputs": [
    {
     "data": {
      "text/plain": [
       "'/home/muhammed-shafeeh/AI_ML/waste_detection_yolo_v5'"
      ]
     },
     "execution_count": 22,
     "metadata": {},
     "output_type": "execute_result"
    }
   ],
   "source": [
    "%pwd"
   ]
  },
  {
   "cell_type": "code",
   "execution_count": 3,
   "metadata": {},
   "outputs": [],
   "source": [
    "os.chdir(\"../\")"
   ]
  },
  {
   "cell_type": "code",
   "execution_count": 4,
   "metadata": {},
   "outputs": [
    {
     "data": {
      "text/plain": [
       "'/home/muhammed-shafeeh/AI_ML/waste_detection_yolo_v5'"
      ]
     },
     "execution_count": 4,
     "metadata": {},
     "output_type": "execute_result"
    }
   ],
   "source": [
    "%pwd"
   ]
  },
  {
   "cell_type": "code",
   "execution_count": 35,
   "metadata": {},
   "outputs": [],
   "source": [
    "from dataclasses import dataclass\n",
    "from pathlib import Path\n",
    "\n",
    "@dataclass(frozen=True)\n",
    "class ModelTrainingConfig:\n",
    "    root_dir: Path\n",
    "    feature_store_root_dir: Path\n",
    "    data_yaml_file: str\n",
    "    pretrained_model_path: Path\n",
    "    pretrained_model_name: str\n",
    "    params_epochs: int\n",
    "    params_batch_size: int\n",
    "    \n",
    "    "
   ]
  },
  {
   "cell_type": "code",
   "execution_count": 68,
   "metadata": {},
   "outputs": [],
   "source": [
    "from src.yoloproject.constants import *\n",
    "from src.yoloproject.utils.common import read_yaml, create_directories\n",
    "from yoloproject.utils.common import read_yaml_dict"
   ]
  },
  {
   "cell_type": "code",
   "execution_count": 69,
   "metadata": {},
   "outputs": [],
   "source": [
    "class ConfigurationManager:\n",
    "    def __init__(\n",
    "        self,\n",
    "        config_filepath=CONFIG_FILE_PATH,\n",
    "        params_filepath=PARAMS_FILE_PATH\n",
    "    ):\n",
    "        self.config = read_yaml(config_filepath)\n",
    "        self.params = read_yaml(params_filepath)\n",
    "\n",
    "        create_directories([self.config.data_validation.root_dir])\n",
    "        \n",
    "    def get_model_training_config(self) -> ModelTrainingConfig:\n",
    "        config = self.config.model_training\n",
    "        \n",
    "        create_directories([config.root_dir, config.feature_store_root_dir])\n",
    "        \n",
    "        model_training_config = ModelTrainingConfig(\n",
    "            root_dir=Path(config.root_dir),\n",
    "            feature_store_root_dir=Path(config.feature_store_root_dir),\n",
    "            data_yaml_file=config.data_yaml_file,  \n",
    "            pretrained_model_path=Path(config.pretrained_model_path),\n",
    "            pretrained_model_name=config.pretrained_model_name,\n",
    "            params_epochs=self.params.EPOCHS,\n",
    "            params_batch_size=self.params.BATCH_SIZE, \n",
    "        )\n",
    "        \n",
    "        return model_training_config"
   ]
  },
  {
   "cell_type": "code",
   "execution_count": 74,
   "metadata": {},
   "outputs": [],
   "source": [
    "import yaml\n",
    "import os\n",
    "from pathlib import Path\n",
    "from src.yoloproject import logger\n"
   ]
  },
  {
   "cell_type": "code",
   "execution_count": null,
   "metadata": {},
   "outputs": [],
   "source": [
    "from yoloproject.components import data_validation\n",
    "\n",
    "\n",
    "class ModelTraining:\n",
    "    def __init__(self, config: ModelTrainingConfig):\n",
    "        self.config = config\n",
    "        \n",
    "    def model_training(self):\n",
    "        '''\n",
    "        Train the YOLOv5 model using the provided data and parameters\n",
    "        '''\n",
    "        # Perform the necessary training steps\n",
    "        if data_validation == True:\n",
    "            try:\n",
    "                logger.info(\"Unzipping data\")\n",
    "                os.system(\"unzip data.zip\")\n",
    "                os.system(\"rm data.zip\")\n",
    "                with open(self.config.feature_store_root_dir / self.config.data_yaml_file, \"r\") as stream:\n",
    "                    num_class = str(yaml.safe_load(stream)[\"nc\"])\n",
    "                    \n",
    "                #model_config_file_name = self.config.pretrained_model_name.split(\".\")[0]\n",
    "                model_config_file_name = self.config.pretrained_model_name.split(\"/\")[-1].split(\".\")[0]\n",
    "                print(model_config_file_name)\n",
    "                \n",
    "                config = read_yaml_dict(Path(f'yolov5/models/{model_config_file_name}.yaml'))\n",
    "                config['nc'] = int(num_class)\n",
    "                \n",
    "                with open(f'yolov5/models/custome_{model_config_file_name}.yaml', \"w\") as file:\n",
    "                    yaml.dump(config, file)\n",
    "                \n",
    "                # Train the model using the provided parameters\n",
    "                data_yaml = Path(self.config.feature_store_root_dir) / self.config.data_yaml_file\n",
    "                data_yaml = data_yaml.resolve()  # Get absolute path\n",
    "\n",
    "                os.system(f\"cd yolov5/ && python train.py --img 640 --batch {self.config.params_batch_size} --epochs {self.config.params_epochs} --data {data_yaml} --cfg ./models/custome_yolov5s.yaml --weights {self.config.pretrained_model_name} --name yolov5_results --cache\")\n",
    "                os.system(f\"cp yolov5/runs/train/yolov5_results/weights/best.pt {self.config.root_dir}\")\n",
    "                \n",
    "                os.system(\"rm -rf yolov5/runs\")\n",
    "                os.system(\"rm -rf data\")\n",
    "                os.system(\"rm -rf train\")\n",
    "                os.system(\"rm -rf valid\")\n",
    "                os.system(\"rm -rf data.yaml\")\n",
    "            except Exception as e:\n",
    "                print(f\"Error while building the model: {e}\")\n",
    "        \n",
    "        "
   ]
  },
  {
   "cell_type": "markdown",
   "metadata": {},
   "source": [
    "model_training:\n",
    "  root_dir: artifacts/model_training\n",
    "  feature_store_root_dir: artifacts/data_ingestion/feature_store/\n",
    "  data_yaml_file: data.yaml\n",
    "  pretrained_model_path: yolov5/models\n",
    "  pretrained_model_name: yolov5s.pt"
   ]
  },
  {
   "cell_type": "code",
   "execution_count": 76,
   "metadata": {},
   "outputs": [
    {
     "name": "stdout",
     "output_type": "stream",
     "text": [
      "Starting YOLOv5 Training...\n",
      "Data validation is not enabled. Skipping model training.\n",
      "Training Completed Successfully!\n"
     ]
    }
   ],
   "source": [
    "config_manager = ConfigurationManager()\n",
    "        \n",
    "# Get Model Training Configuration\n",
    "model_training_config = config_manager.get_model_training_config()\n",
    "\n",
    "# Initialize Model Training Class\n",
    "trainer = ModelTraining(config=model_training_config)\n",
    "\n",
    "# Run the Training\n",
    "print(\"Starting YOLOv5 Training...\")\n",
    "trainer.model_training()\n",
    "print(\"Training Completed Successfully!\")"
   ]
  },
  {
   "cell_type": "code",
   "execution_count": null,
   "metadata": {},
   "outputs": [],
   "source": []
  }
 ],
 "metadata": {
  "kernelspec": {
   "display_name": "Python 3",
   "language": "python",
   "name": "python3"
  },
  "language_info": {
   "codemirror_mode": {
    "name": "ipython",
    "version": 3
   },
   "file_extension": ".py",
   "mimetype": "text/x-python",
   "name": "python",
   "nbconvert_exporter": "python",
   "pygments_lexer": "ipython3",
   "version": "3.11.11"
  }
 },
 "nbformat": 4,
 "nbformat_minor": 2
}
