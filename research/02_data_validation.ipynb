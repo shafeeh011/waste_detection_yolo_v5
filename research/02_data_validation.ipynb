{
 "cells": [
  {
   "cell_type": "code",
   "execution_count": 1,
   "metadata": {},
   "outputs": [],
   "source": [
    "import os"
   ]
  },
  {
   "cell_type": "code",
   "execution_count": 2,
   "metadata": {},
   "outputs": [
    {
     "data": {
      "text/plain": [
       "'/home/muhammed-shafeeh/AI_ML/waste_detection_yolo_v5/research'"
      ]
     },
     "execution_count": 2,
     "metadata": {},
     "output_type": "execute_result"
    }
   ],
   "source": [
    "%pwd"
   ]
  },
  {
   "cell_type": "code",
   "execution_count": 3,
   "metadata": {},
   "outputs": [],
   "source": [
    "os.chdir(\"../\")"
   ]
  },
  {
   "cell_type": "code",
   "execution_count": 4,
   "metadata": {},
   "outputs": [
    {
     "data": {
      "text/plain": [
       "'/home/muhammed-shafeeh/AI_ML/waste_detection_yolo_v5'"
      ]
     },
     "execution_count": 4,
     "metadata": {},
     "output_type": "execute_result"
    }
   ],
   "source": [
    "%pwd"
   ]
  },
  {
   "cell_type": "code",
   "execution_count": 112,
   "metadata": {},
   "outputs": [],
   "source": [
    "from dataclasses import dataclass\n",
    "from pathlib import Path\n",
    "\n",
    "\n",
    "@dataclass(frozen=True)\n",
    "class DataValidationConfig:\n",
    "    root_dir: Path\n",
    "    data_validation_status_file: Path\n",
    "    data_validation_required_files_dir: Path\n",
    "    data_validation_all_required_files: list\n",
    "    data_location: Path\n",
    "    data_copy_location: Path\n",
    "    data_file : str\n",
    "    \n",
    "    "
   ]
  },
  {
   "cell_type": "code",
   "execution_count": 113,
   "metadata": {},
   "outputs": [],
   "source": [
    "from src.yoloproject.constants import *\n",
    "from src.yoloproject.utils.common import read_yaml, create_directories\n",
    "\n"
   ]
  },
  {
   "cell_type": "code",
   "execution_count": 114,
   "metadata": {},
   "outputs": [],
   "source": [
    "class ConfigurationManager:\n",
    "    def __init__(\n",
    "        self,\n",
    "        config_filepath=CONFIG_FILE_PATH,\n",
    "        params_filepath=PARAMS_FILE_PATH\n",
    "    ):\n",
    "        self.config = read_yaml(config_filepath)\n",
    "        self.params = read_yaml(params_filepath)\n",
    "\n",
    "        create_directories([self.config.data_validation.root_dir])\n",
    "\n",
    "    def get_data_validation_config(self) -> DataValidationConfig:\n",
    "        config = self.config.data_validation\n",
    "\n",
    "        create_directories([Path(config.root_dir)])\n",
    "\n",
    "        data_validation_config = DataValidationConfig(\n",
    "            root_dir=Path(config.root_dir),\n",
    "            data_validation_status_file=Path(config.data_validation_status_file),\n",
    "            data_validation_required_files_dir=Path(config.data_validation_required_files_dir),  \n",
    "            data_validation_all_required_files=list(config.data_validation_all_required_files), # Expected files\n",
    "            data_location=Path(config.data_location),\n",
    "            data_copy_location=Path(config.data_copy_location),\n",
    "            data_file= config.data_file,  # Expected file name\n",
    "            \n",
    "        )\n",
    "\n",
    "        return data_validation_config"
   ]
  },
  {
   "cell_type": "code",
   "execution_count": 115,
   "metadata": {},
   "outputs": [],
   "source": [
    "from src.yoloproject.exception import AppException\n",
    "import sys\n",
    "import shutil"
   ]
  },
  {
   "cell_type": "code",
   "execution_count": 116,
   "metadata": {},
   "outputs": [],
   "source": [
    "class DataValidation:\n",
    "    def __init__(self, config: DataValidationConfig):\n",
    "        self.config = config\n",
    "\n",
    "    def validate_data(self) -> bool:\n",
    "        try:\n",
    "            feature_store_path = self.config.data_validation_all_required_files  # Expected files\n",
    "            actual_files = set(os.listdir(self.config.data_validation_required_files_dir))  # Files present in the directory\n",
    "\n",
    "            # Check if all required files are present\n",
    "            missing_files = [file for file in feature_store_path if file not in actual_files]\n",
    "            validation_status = len(missing_files) == 0\n",
    "\n",
    "            # Ensure the directory for status file exists\n",
    "            self.config.root_dir.mkdir(parents=True, exist_ok=True)\n",
    "\n",
    "            # Write validation status to file\n",
    "            with open(self.config.root_dir.joinpath(self.config.data_validation_status_file), \"w\") as file:\n",
    "                file.write(f\"Validation status: {validation_status}\\n\")\n",
    "                if not validation_status:\n",
    "                    file.write(f\"Missing files: {', '.join(missing_files)}\\n\")\n",
    "\n",
    "            return validation_status\n",
    "\n",
    "        except Exception as e:\n",
    "            raise AppException(e, sys)\n",
    "        \n",
    "    def copy_data(self):\n",
    "        source_file = self.config.data_location / self.config.data_file\n",
    "        destination_file = self.config.data_copy_location / self.config.data_file\n",
    "\n",
    "        # Ensure destination directory exists\n",
    "        self.config.data_copy_location.mkdir(parents=True, exist_ok=True)\n",
    "\n",
    "        # Copy the file\n",
    "        shutil.copy(source_file, destination_file)\n",
    "        print(f\"Copied {source_file} to {destination_file}\")"
   ]
  },
  {
   "cell_type": "code",
   "execution_count": 117,
   "metadata": {},
   "outputs": [
    {
     "name": "stdout",
     "output_type": "stream",
     "text": [
      "Copied artifacts/data_ingestion/data.zip to data.zip\n"
     ]
    }
   ],
   "source": [
    "config_manager = ConfigurationManager()\n",
    "data_validation_config = config_manager.get_data_validation_config()\n",
    "\n",
    "data_validator = DataValidation(config=data_validation_config)\n",
    "validation_status = data_validator.validate_data()\n",
    "copy_data = data_validator.copy_data()"
   ]
  },
  {
   "cell_type": "code",
   "execution_count": null,
   "metadata": {},
   "outputs": [],
   "source": []
  }
 ],
 "metadata": {
  "kernelspec": {
   "display_name": "Python 3",
   "language": "python",
   "name": "python3"
  },
  "language_info": {
   "codemirror_mode": {
    "name": "ipython",
    "version": 3
   },
   "file_extension": ".py",
   "mimetype": "text/x-python",
   "name": "python",
   "nbconvert_exporter": "python",
   "pygments_lexer": "ipython3",
   "version": "3.11.11"
  }
 },
 "nbformat": 4,
 "nbformat_minor": 2
}
